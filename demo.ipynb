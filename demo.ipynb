{
 "cells": [
  {
   "cell_type": "code",
   "execution_count": 343,
   "metadata": {},
   "outputs": [],
   "source": [
    "from collections import defaultdict\n",
    "from datetime import datetime\n",
    "import random\n",
    "\n",
    "import numpy as np\n",
    "import pandas as pd\n",
    "\n",
    "import spacy\n",
    "nlp = spacy.load('en_core_web_sm')\n",
    "\n",
    "from spacy.lemmatizer import Lemmatizer\n",
    "from spacy.lang.en import LEMMA_INDEX, LEMMA_EXC, LEMMA_RULES\n",
    "lemmatizer = Lemmatizer(LEMMA_INDEX, LEMMA_EXC, LEMMA_RULES)\n",
    "\n",
    "import neuralcoref\n",
    "nlp.add_pipe(neuralcoref.NeuralCoref(nlp.vocab,blacklist=False),name=\"neuralcoref\")\n",
    "\n",
    "from main2 import ConnoFramer"
   ]
  },
  {
   "cell_type": "code",
   "execution_count": 344,
   "metadata": {},
   "outputs": [
    {
     "name": "stdout",
     "output_type": "stream",
     "text": [
      "2023-02-04 21:18:14 Processed 0 out of 2\n"
     ]
    }
   ],
   "source": [
    "framer = ConnoFramer()\n",
    "framer.train('/Users/maria/Documents/data/FramesAgencyPower/agency_power.csv', \n",
    "             'fakeStories.csv', \n",
    "             'text', \n",
    "             'i')"
   ]
  },
  {
   "cell_type": "code",
   "execution_count": 345,
   "metadata": {},
   "outputs": [
    {
     "data": {
      "text/plain": [
       "defaultdict(<function main2.ConnoFramer.__score_dataset.<locals>.<lambda>()>,\n",
       "            {'i': defaultdict(int, {'positive': 1, 'negative': 2}),\n",
       "             'my doctor': defaultdict(int, {'positive': 4, 'negative': 0}),\n",
       "             'susan': defaultdict(int, {'positive': 0, 'negative': 1})})"
      ]
     },
     "execution_count": 345,
     "metadata": {},
     "output_type": "execute_result"
    }
   ],
   "source": [
    "framer.get_score_totals()"
   ]
  },
  {
   "cell_type": "code",
   "execution_count": 346,
   "metadata": {},
   "outputs": [
    {
     "data": {
      "text/plain": [
       "defaultdict(<function main2.ConnoFramer.__score_document.<locals>.<lambda>()>,\n",
       "            {'susan': defaultdict(int, {'negative': 1, 'positive': 0}),\n",
       "             'my doctor': defaultdict(int, {'positive': 3, 'negative': 0})})"
      ]
     },
     "execution_count": 346,
     "metadata": {},
     "output_type": "execute_result"
    }
   ],
   "source": [
    "framer.get_scores_for_doc(1)"
   ]
  },
  {
   "cell_type": "code",
   "execution_count": 347,
   "metadata": {},
   "outputs": [
    {
     "data": {
      "text/plain": [
       "defaultdict(int,\n",
       "            {('susan', 'arrive'): 1,\n",
       "             ('susan', 'call'): 1,\n",
       "             ('my doctor', 'fix'): 1})"
      ]
     },
     "execution_count": 347,
     "metadata": {},
     "output_type": "execute_result"
    }
   ],
   "source": [
    "framer.count_nsubj_for_doc(1)"
   ]
  },
  {
   "cell_type": "code",
   "execution_count": 348,
   "metadata": {},
   "outputs": [
    {
     "data": {
      "text/plain": [
       "defaultdict(int, {('my doctor', 'thank'): 1, ('my doctor', 'call'): 1})"
      ]
     },
     "execution_count": 348,
     "metadata": {},
     "output_type": "execute_result"
    }
   ],
   "source": [
    "framer.count_dobj_for_doc(1)"
   ]
  },
  {
   "cell_type": "code",
   "execution_count": 349,
   "metadata": {},
   "outputs": [
    {
     "data": {
      "text/plain": [
       "defaultdict(<function main2.ConnoFramer.__score_document.<locals>.<lambda>()>,\n",
       "            {'i': defaultdict(int, {'positive': 1, 'negative': 2}),\n",
       "             'my doctor': defaultdict(int, {'positive': 1, 'negative': 0})})"
      ]
     },
     "execution_count": 349,
     "metadata": {},
     "output_type": "execute_result"
    }
   ],
   "source": [
    "framer.get_scores_for_doc(0)"
   ]
  },
  {
   "cell_type": "code",
   "execution_count": 350,
   "metadata": {},
   "outputs": [
    {
     "data": {
      "text/plain": [
       "defaultdict(int,\n",
       "            {('i', 'think'): 1,\n",
       "             ('i', 'have'): 1,\n",
       "             ('i', 'feel'): 1,\n",
       "             ('i', 'call'): 1})"
      ]
     },
     "execution_count": 350,
     "metadata": {},
     "output_type": "execute_result"
    }
   ],
   "source": [
    "framer.count_nsubj_for_doc(0)"
   ]
  },
  {
   "cell_type": "code",
   "execution_count": 351,
   "metadata": {},
   "outputs": [
    {
     "data": {
      "text/plain": [
       "defaultdict(int, {('i', 'pick'): 1, ('my doctor', 'call'): 1})"
      ]
     },
     "execution_count": 351,
     "metadata": {},
     "output_type": "execute_result"
    }
   ],
   "source": [
    "framer.count_dobj_for_doc(0)"
   ]
  },
  {
   "cell_type": "code",
   "execution_count": null,
   "metadata": {},
   "outputs": [],
   "source": []
  },
  {
   "cell_type": "code",
   "execution_count": null,
   "metadata": {},
   "outputs": [],
   "source": []
  }
 ],
 "metadata": {
  "kernelspec": {
   "display_name": "connoFrameEnv2",
   "language": "python",
   "name": "python3"
  },
  "language_info": {
   "codemirror_mode": {
    "name": "ipython",
    "version": 3
   },
   "file_extension": ".py",
   "mimetype": "text/x-python",
   "name": "python",
   "nbconvert_exporter": "python",
   "pygments_lexer": "ipython3",
   "version": "3.8.16"
  },
  "orig_nbformat": 4,
  "vscode": {
   "interpreter": {
    "hash": "66412c03f91e9a42e9c41dd543b50b96eee08a8e3011708689019231b0abadf5"
   }
  }
 },
 "nbformat": 4,
 "nbformat_minor": 2
}
